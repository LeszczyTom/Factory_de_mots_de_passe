{
 "cells": [
  {
   "cell_type": "code",
   "execution_count": 1,
   "metadata": {},
   "outputs": [],
   "source": [
    "from tensorflow import keras\n",
    "from keras import layers\n",
    "\n",
    "import pandas as pd\n",
    "import tensorflow as tf\n",
    "import numpy as np"
   ]
  },
  {
   "cell_type": "code",
   "execution_count": 2,
   "metadata": {},
   "outputs": [
    {
     "name": "stdout",
     "output_type": "stream",
     "text": [
      "Number of passwords: 374863\n",
      "Total chars: 94\n"
     ]
    }
   ],
   "source": [
    "train_data = pd.read_csv(\"data/train.txt\", header=None, names=['input'])\n",
    "train_data = train_data.drop_duplicates()\n",
    "\n",
    "# Remove passwords with length < 4\n",
    "train_data = train_data[train_data[\"input\"].str.len() >= 4]\n",
    "\n",
    "# Remove passwords with length > 20\n",
    "train_data = train_data[train_data[\"input\"].str.len() <= 20]\n",
    "\n",
    "# Add col target\n",
    "train_data[\"target\"] = train_data[\"input\"] + \"\\n\"\n",
    "\n",
    "# Add \\t at the start of each input\n",
    "train_data[\"input\"] = \"\\t\" + train_data[\"input\"]\n",
    "\n",
    "chars = sorted(list(set(\"\\n\".join(train_data[\"input\"]))))\n",
    "\n",
    "print(\"Number of passwords:\", len(train_data))\n",
    "\n",
    "vocab_size = len(chars)\n",
    "print(\"Total chars:\", vocab_size)\n",
    "\n",
    "char_indices = dict((c, i) for i, c in enumerate(chars))\n",
    "indices_char = dict((i, c) for i, c in enumerate(chars))\n",
    "\n",
    "inputs = []\n",
    "outputs = []\n",
    "\n",
    "for line in train_data[\"input\"]:\n",
    "    tmp = []\n",
    "    for char in line:\n",
    "        tmp.append(char_indices[char])\n",
    "    inputs.append(tmp)\n",
    "\n",
    "for line in train_data[\"target\"]:\n",
    "    tmp = []\n",
    "    for char in line:\n",
    "        tmp.append(char_indices[char])\n",
    "    outputs.append(tmp)\n",
    "\n",
    "X_train = tf.ragged.constant(inputs)\n",
    "X_train = tf.one_hot(X_train, depth=vocab_size)\n",
    "\n",
    "y_train = tf.ragged.constant(outputs)\n",
    "y_train = tf.one_hot(y_train, depth=vocab_size)"
   ]
  },
  {
   "cell_type": "code",
   "execution_count": 3,
   "metadata": {},
   "outputs": [
    {
     "data": {
      "text/plain": [
       "['\\t',\n",
       " '\\n',\n",
       " ' ',\n",
       " '!',\n",
       " '\"',\n",
       " '#',\n",
       " '$',\n",
       " '%',\n",
       " '&',\n",
       " \"'\",\n",
       " '(',\n",
       " ')',\n",
       " '*',\n",
       " '+',\n",
       " '-',\n",
       " '.',\n",
       " '/',\n",
       " '0',\n",
       " '1',\n",
       " '2',\n",
       " '3',\n",
       " '4',\n",
       " '5',\n",
       " '6',\n",
       " '7',\n",
       " '8',\n",
       " '9',\n",
       " ':',\n",
       " ';',\n",
       " '<',\n",
       " '=',\n",
       " '>',\n",
       " '?',\n",
       " '@',\n",
       " 'A',\n",
       " 'B',\n",
       " 'C',\n",
       " 'D',\n",
       " 'E',\n",
       " 'F',\n",
       " 'G',\n",
       " 'H',\n",
       " 'I',\n",
       " 'J',\n",
       " 'K',\n",
       " 'L',\n",
       " 'M',\n",
       " 'N',\n",
       " 'O',\n",
       " 'P',\n",
       " 'Q',\n",
       " 'R',\n",
       " 'S',\n",
       " 'T',\n",
       " 'U',\n",
       " 'V',\n",
       " 'W',\n",
       " 'X',\n",
       " 'Y',\n",
       " 'Z',\n",
       " '[',\n",
       " '\\\\',\n",
       " ']',\n",
       " '^',\n",
       " '_',\n",
       " '`',\n",
       " 'a',\n",
       " 'b',\n",
       " 'c',\n",
       " 'd',\n",
       " 'e',\n",
       " 'f',\n",
       " 'g',\n",
       " 'h',\n",
       " 'i',\n",
       " 'j',\n",
       " 'k',\n",
       " 'l',\n",
       " 'm',\n",
       " 'n',\n",
       " 'o',\n",
       " 'p',\n",
       " 'q',\n",
       " 'r',\n",
       " 's',\n",
       " 't',\n",
       " 'u',\n",
       " 'v',\n",
       " 'w',\n",
       " 'x',\n",
       " 'y',\n",
       " 'z',\n",
       " '|',\n",
       " '~']"
      ]
     },
     "execution_count": 3,
     "metadata": {},
     "output_type": "execute_result"
    }
   ],
   "source": [
    "chars\n"
   ]
  },
  {
   "cell_type": "code",
   "execution_count": 4,
   "metadata": {},
   "outputs": [],
   "source": [
    "def onehot2indices(hotmax):\n",
    "    return tf.math.argmax(hotmax, axis=-1).numpy().flatten()\n",
    "\n",
    "def onehot2chars(hotmax):\n",
    "    return [indices_char[i] for i in onehot2indices(hotmax)]\n",
    "\n",
    "def word2indices(word):\n",
    "    return [char_indices[c] for c in word]\n",
    "\n",
    "def indices2word(indices):\n",
    "    return ''.join([indices_char[i] for i in indices])"
   ]
  },
  {
   "cell_type": "code",
   "execution_count": 5,
   "metadata": {},
   "outputs": [
    {
     "data": {
      "text/plain": [
       "[41, 70, 77, 77, 80]"
      ]
     },
     "execution_count": 5,
     "metadata": {},
     "output_type": "execute_result"
    }
   ],
   "source": [
    "word2indices(\"Hello\")"
   ]
  },
  {
   "cell_type": "code",
   "execution_count": 6,
   "metadata": {},
   "outputs": [
    {
     "name": "stdout",
     "output_type": "stream",
     "text": [
      "['\\t', '-', '1', '2', '6', '9']  ->  ['-', '1', '2', '6', '9', '\\n']\n",
      "['\\t', '0', '.', '1', '2', '3', '4', '5']  ->  ['0', '.', '1', '2', '3', '4', '5', '\\n']\n",
      "['\\t', '1', '0', '0', '0']  ->  ['1', '0', '0', '0', '\\n']\n",
      "['\\t', '1', '0', '0', '1']  ->  ['1', '0', '0', '1', '\\n']\n",
      "['\\t', '1', '0', '0', '2']  ->  ['1', '0', '0', '2', '\\n']\n"
     ]
    }
   ],
   "source": [
    "for i in range(0, 5):\n",
    "    print(onehot2chars(X_train[i]), \" -> \", onehot2chars(y_train[i]))"
   ]
  },
  {
   "cell_type": "code",
   "execution_count": 7,
   "metadata": {},
   "outputs": [],
   "source": [
    "def get_model(file = None, epoch = None):\n",
    "    if file is not None:\n",
    "        return keras.models.load_model(\"models/{}/{}_e{}.h5\".format(file, file, epoch))\n",
    "    return get_stacked_lstm()\n",
    "    # return get_gru()\n",
    "    # return get_lstm()\n",
    "    # return bidirectional_lstm()\n",
    "\n",
    "def get_stacked_lstm():\n",
    "    model = keras.Sequential()\n",
    "    model.add(keras.Input(shape=(None, vocab_size)))\n",
    "    model.add(layers.LSTM(128, return_sequences=True))\n",
    "    model.add(layers.LSTM(128, return_sequences=True))\n",
    "    model.add(layers.Dense(vocab_size, activation=\"softmax\"))\n",
    "\n",
    "    model.compile(loss=\"categorical_crossentropy\", optimizer=\"adam\")\n",
    "\n",
    "    model.summary()\n",
    "    return model\n",
    "\n",
    "def get_gru():\n",
    "    model = keras.Sequential()\n",
    "    model.add(keras.Input(shape=(None, vocab_size)))\n",
    "    model.add(layers.GRU(128, return_sequences=True))\n",
    "    model.add(layers.Dense(vocab_size, activation=\"softmax\"))\n",
    "\n",
    "    model.compile(loss=\"categorical_crossentropy\", optimizer=\"adam\")\n",
    "\n",
    "    model.summary()\n",
    "    return model\n",
    "    \n",
    "def get_lstm():\n",
    "    model = keras.Sequential()\n",
    "    model.add(keras.Input(shape=(None, vocab_size)))\n",
    "    model.add(layers.LSTM(128, return_sequences=True))\n",
    "    model.add(layers.Dense(vocab_size, activation=\"softmax\"))\n",
    "\n",
    "    model.compile(loss=\"categorical_crossentropy\", optimizer=\"adam\")\n",
    "\n",
    "    model.summary()\n",
    "    return model\n",
    "\n",
    "def get_bidirectional_lstm():\n",
    "    model = keras.Sequential()\n",
    "    model.add(keras.Input(shape=(None, vocab_size)))\n",
    "    model.add(layers.Bidirectional(layers.LSTM(128, return_sequences=True)))\n",
    "    model.add(layers.Dense(vocab_size, activation=\"softmax\"))\n",
    "\n",
    "    model.compile(loss=\"categorical_crossentropy\", optimizer=\"adam\")\n",
    "\n",
    "    model.summary()\n",
    "    return model"
   ]
  },
  {
   "cell_type": "code",
   "execution_count": 8,
   "metadata": {},
   "outputs": [],
   "source": [
    "def generate_word(model, max_length=20):\n",
    "    out = [0] # Start with \\t token\n",
    "    input = tf.one_hot(out, depth=vocab_size) # One hot encode\n",
    "    input = tf.reshape(input, (1, input.shape[0], input.shape[1])) # Add batch dimension\n",
    "\n",
    "    for i in range(max_length):\n",
    "        prediction = model.predict(input, verbose=0) # Predict next letter\n",
    "        prediction = prediction[:,-1:,:][0] # Last letter softmax probabilities\n",
    "        id = tf.squeeze(tf.random.categorical(tf.math.log(prediction), 1)).numpy() # Sample from softmax\n",
    "\n",
    "        if indices_char[id] == \"\\n\": # Stop if \\n token is predicted\n",
    "            break\n",
    "\n",
    "        out.append(id) # Append predicted letter\n",
    "        input = tf.one_hot(out, depth=vocab_size) # Update input\n",
    "        input = tf.reshape(input, (1, input.shape[0], input.shape[1])) \n",
    "    \n",
    "    # Remove \\t token \n",
    "    out = out[1:]\n",
    "    del input, prediction, id\n",
    "    return indices2word(out)\n",
    "        \n",
    "def generate_n_words(model, n, max_length=20):\n",
    "    words = []\n",
    "    for i in range(n):\n",
    "        print(\"Generating word {}/{}\".format(i, n), end=\"\\r\")\n",
    "        words.append(generate_word(model, max_length))\n",
    "    return words"
   ]
  },
  {
   "cell_type": "code",
   "execution_count": 9,
   "metadata": {},
   "outputs": [],
   "source": [
    "# def get_closest_word_in_test(word):\n",
    "#     if word in test_data[\"input\"].values:\n",
    "#         return (word, 0)\n",
    "\n",
    "#     score = 999\n",
    "#     closest_word = \"\"\n",
    "#     for index, row in test_data.iterrows():\n",
    "#         lev_score = lev.distance(word, row[\"input\"])\n",
    "#         score = min(score, lev_score)\n",
    "#         if score == lev_score:\n",
    "#             closest_word = row[\"input\"]\n",
    "#     return (closest_word, score)\n",
    "\n",
    "# def get_mean_levenshtein_distance(words):\n",
    "#     total = 0\n",
    "#     for word in words:\n",
    "#         total += get_closest_word_in_test(word)[1]\n",
    "#     return total / len(words)\n",
    "\n",
    "# def closests_words(words):\n",
    "#     scores = []\n",
    "#     for word in words:\n",
    "#         scores.append((\"\", 999))\n",
    "\n",
    "#     for _, row in test_data.iterrows():\n",
    "#         for i, word in enumerate(words):\n",
    "#             lev_score = lev.distance(word, row[\"input\"])\n",
    "#             if lev_score < scores[i][1]:\n",
    "#                 scores[i] = (row[\"input\"], lev_score)\n",
    "#     return scores\n",
    "\n",
    "# def get_mean_levenshtein_distance(words):\n",
    "#     tuples = closests_words(words)\n",
    "#     total = 0\n",
    "#     for tuple in tuples:\n",
    "#         total += tuple[1]\n",
    "#     return total / len(tuples)"
   ]
  },
  {
   "cell_type": "code",
   "execution_count": 12,
   "metadata": {},
   "outputs": [
    {
     "name": "stdout",
     "output_type": "stream",
     "text": [
      "Starting from epoch 73\n",
      "  649/11715 [>.............................] - ETA: 5:10 - loss: 2.3188"
     ]
    },
    {
     "ename": "KeyboardInterrupt",
     "evalue": "",
     "output_type": "error",
     "traceback": [
      "\u001b[1;31m---------------------------------------------------------------------------\u001b[0m",
      "\u001b[1;31mKeyboardInterrupt\u001b[0m                         Traceback (most recent call last)",
      "Cell \u001b[1;32mIn[12], line 18\u001b[0m\n\u001b[0;32m     13\u001b[0m model \u001b[38;5;241m=\u001b[39m get_model(model_name, epoch \u001b[38;5;241m-\u001b[39m \u001b[38;5;241m1\u001b[39m)\n\u001b[0;32m     15\u001b[0m \u001b[38;5;66;03m# epoch = 0\u001b[39;00m\n\u001b[0;32m     16\u001b[0m \u001b[38;5;66;03m# model = get_model()\u001b[39;00m\n\u001b[1;32m---> 18\u001b[0m history \u001b[38;5;241m=\u001b[39m \u001b[43mmodel\u001b[49m\u001b[38;5;241;43m.\u001b[39;49m\u001b[43mfit\u001b[49m\u001b[43m(\u001b[49m\u001b[43mX_train\u001b[49m\u001b[43m,\u001b[49m\u001b[43m \u001b[49m\u001b[43my_train\u001b[49m\u001b[43m,\u001b[49m\u001b[43m \u001b[49m\u001b[43mbatch_size\u001b[49m\u001b[43m,\u001b[49m\u001b[43m \u001b[49m\u001b[43mepochs\u001b[49m\u001b[38;5;241;43m=\u001b[39;49m\u001b[38;5;241;43m1\u001b[39;49m\u001b[43m)\u001b[49m\n\u001b[0;32m     20\u001b[0m loss\u001b[38;5;241m.\u001b[39mappend(history\u001b[38;5;241m.\u001b[39mhistory[\u001b[38;5;124m\"\u001b[39m\u001b[38;5;124mloss\u001b[39m\u001b[38;5;124m\"\u001b[39m][\u001b[38;5;241m0\u001b[39m])\n\u001b[0;32m     21\u001b[0m \u001b[38;5;66;03m# Save metrics to file\u001b[39;00m\n",
      "File \u001b[1;32mc:\\Users\\Tom\\miniconda3\\envs\\tff\\lib\\site-packages\\keras\\utils\\traceback_utils.py:65\u001b[0m, in \u001b[0;36mfilter_traceback.<locals>.error_handler\u001b[1;34m(*args, **kwargs)\u001b[0m\n\u001b[0;32m     63\u001b[0m filtered_tb \u001b[39m=\u001b[39m \u001b[39mNone\u001b[39;00m\n\u001b[0;32m     64\u001b[0m \u001b[39mtry\u001b[39;00m:\n\u001b[1;32m---> 65\u001b[0m     \u001b[39mreturn\u001b[39;00m fn(\u001b[39m*\u001b[39margs, \u001b[39m*\u001b[39m\u001b[39m*\u001b[39mkwargs)\n\u001b[0;32m     66\u001b[0m \u001b[39mexcept\u001b[39;00m \u001b[39mException\u001b[39;00m \u001b[39mas\u001b[39;00m e:\n\u001b[0;32m     67\u001b[0m     filtered_tb \u001b[39m=\u001b[39m _process_traceback_frames(e\u001b[39m.\u001b[39m__traceback__)\n",
      "File \u001b[1;32mc:\\Users\\Tom\\miniconda3\\envs\\tff\\lib\\site-packages\\keras\\engine\\training.py:1650\u001b[0m, in \u001b[0;36mModel.fit\u001b[1;34m(self, x, y, batch_size, epochs, verbose, callbacks, validation_split, validation_data, shuffle, class_weight, sample_weight, initial_epoch, steps_per_epoch, validation_steps, validation_batch_size, validation_freq, max_queue_size, workers, use_multiprocessing)\u001b[0m\n\u001b[0;32m   1642\u001b[0m \u001b[39mwith\u001b[39;00m tf\u001b[39m.\u001b[39mprofiler\u001b[39m.\u001b[39mexperimental\u001b[39m.\u001b[39mTrace(\n\u001b[0;32m   1643\u001b[0m     \u001b[39m\"\u001b[39m\u001b[39mtrain\u001b[39m\u001b[39m\"\u001b[39m,\n\u001b[0;32m   1644\u001b[0m     epoch_num\u001b[39m=\u001b[39mepoch,\n\u001b[1;32m   (...)\u001b[0m\n\u001b[0;32m   1647\u001b[0m     _r\u001b[39m=\u001b[39m\u001b[39m1\u001b[39m,\n\u001b[0;32m   1648\u001b[0m ):\n\u001b[0;32m   1649\u001b[0m     callbacks\u001b[39m.\u001b[39mon_train_batch_begin(step)\n\u001b[1;32m-> 1650\u001b[0m     tmp_logs \u001b[39m=\u001b[39m \u001b[39mself\u001b[39;49m\u001b[39m.\u001b[39;49mtrain_function(iterator)\n\u001b[0;32m   1651\u001b[0m     \u001b[39mif\u001b[39;00m data_handler\u001b[39m.\u001b[39mshould_sync:\n\u001b[0;32m   1652\u001b[0m         context\u001b[39m.\u001b[39masync_wait()\n",
      "File \u001b[1;32mc:\\Users\\Tom\\miniconda3\\envs\\tff\\lib\\site-packages\\tensorflow\\python\\util\\traceback_utils.py:150\u001b[0m, in \u001b[0;36mfilter_traceback.<locals>.error_handler\u001b[1;34m(*args, **kwargs)\u001b[0m\n\u001b[0;32m    148\u001b[0m filtered_tb \u001b[39m=\u001b[39m \u001b[39mNone\u001b[39;00m\n\u001b[0;32m    149\u001b[0m \u001b[39mtry\u001b[39;00m:\n\u001b[1;32m--> 150\u001b[0m   \u001b[39mreturn\u001b[39;00m fn(\u001b[39m*\u001b[39margs, \u001b[39m*\u001b[39m\u001b[39m*\u001b[39mkwargs)\n\u001b[0;32m    151\u001b[0m \u001b[39mexcept\u001b[39;00m \u001b[39mException\u001b[39;00m \u001b[39mas\u001b[39;00m e:\n\u001b[0;32m    152\u001b[0m   filtered_tb \u001b[39m=\u001b[39m _process_traceback_frames(e\u001b[39m.\u001b[39m__traceback__)\n",
      "File \u001b[1;32mc:\\Users\\Tom\\miniconda3\\envs\\tff\\lib\\site-packages\\tensorflow\\python\\eager\\polymorphic_function\\polymorphic_function.py:880\u001b[0m, in \u001b[0;36mFunction.__call__\u001b[1;34m(self, *args, **kwds)\u001b[0m\n\u001b[0;32m    877\u001b[0m compiler \u001b[39m=\u001b[39m \u001b[39m\"\u001b[39m\u001b[39mxla\u001b[39m\u001b[39m\"\u001b[39m \u001b[39mif\u001b[39;00m \u001b[39mself\u001b[39m\u001b[39m.\u001b[39m_jit_compile \u001b[39melse\u001b[39;00m \u001b[39m\"\u001b[39m\u001b[39mnonXla\u001b[39m\u001b[39m\"\u001b[39m\n\u001b[0;32m    879\u001b[0m \u001b[39mwith\u001b[39;00m OptionalXlaContext(\u001b[39mself\u001b[39m\u001b[39m.\u001b[39m_jit_compile):\n\u001b[1;32m--> 880\u001b[0m   result \u001b[39m=\u001b[39m \u001b[39mself\u001b[39m\u001b[39m.\u001b[39m_call(\u001b[39m*\u001b[39margs, \u001b[39m*\u001b[39m\u001b[39m*\u001b[39mkwds)\n\u001b[0;32m    882\u001b[0m new_tracing_count \u001b[39m=\u001b[39m \u001b[39mself\u001b[39m\u001b[39m.\u001b[39mexperimental_get_tracing_count()\n\u001b[0;32m    883\u001b[0m without_tracing \u001b[39m=\u001b[39m (tracing_count \u001b[39m==\u001b[39m new_tracing_count)\n",
      "File \u001b[1;32mc:\\Users\\Tom\\miniconda3\\envs\\tff\\lib\\site-packages\\tensorflow\\python\\eager\\polymorphic_function\\polymorphic_function.py:919\u001b[0m, in \u001b[0;36mFunction._call\u001b[1;34m(self, *args, **kwds)\u001b[0m\n\u001b[0;32m    916\u001b[0m \u001b[39mself\u001b[39m\u001b[39m.\u001b[39m_lock\u001b[39m.\u001b[39mrelease()\n\u001b[0;32m    917\u001b[0m \u001b[39m# In this case we have not created variables on the first call. So we can\u001b[39;00m\n\u001b[0;32m    918\u001b[0m \u001b[39m# run the first trace but we should fail if variables are created.\u001b[39;00m\n\u001b[1;32m--> 919\u001b[0m results \u001b[39m=\u001b[39m \u001b[39mself\u001b[39m\u001b[39m.\u001b[39m_variable_creation_fn(\u001b[39m*\u001b[39margs, \u001b[39m*\u001b[39m\u001b[39m*\u001b[39mkwds)\n\u001b[0;32m    920\u001b[0m \u001b[39mif\u001b[39;00m \u001b[39mself\u001b[39m\u001b[39m.\u001b[39m_created_variables \u001b[39mand\u001b[39;00m \u001b[39mnot\u001b[39;00m ALLOW_DYNAMIC_VARIABLE_CREATION:\n\u001b[0;32m    921\u001b[0m   \u001b[39mraise\u001b[39;00m \u001b[39mValueError\u001b[39;00m(\u001b[39m\"\u001b[39m\u001b[39mCreating variables on a non-first call to a function\u001b[39m\u001b[39m\"\u001b[39m\n\u001b[0;32m    922\u001b[0m                    \u001b[39m\"\u001b[39m\u001b[39m decorated with tf.function.\u001b[39m\u001b[39m\"\u001b[39m)\n",
      "File \u001b[1;32mc:\\Users\\Tom\\miniconda3\\envs\\tff\\lib\\site-packages\\tensorflow\\python\\eager\\polymorphic_function\\tracing_compiler.py:134\u001b[0m, in \u001b[0;36mTracingCompiler.__call__\u001b[1;34m(self, *args, **kwargs)\u001b[0m\n\u001b[0;32m    131\u001b[0m \u001b[39mwith\u001b[39;00m \u001b[39mself\u001b[39m\u001b[39m.\u001b[39m_lock:\n\u001b[0;32m    132\u001b[0m   (concrete_function,\n\u001b[0;32m    133\u001b[0m    filtered_flat_args) \u001b[39m=\u001b[39m \u001b[39mself\u001b[39m\u001b[39m.\u001b[39m_maybe_define_function(args, kwargs)\n\u001b[1;32m--> 134\u001b[0m \u001b[39mreturn\u001b[39;00m concrete_function\u001b[39m.\u001b[39;49m_call_flat(\n\u001b[0;32m    135\u001b[0m     filtered_flat_args, captured_inputs\u001b[39m=\u001b[39;49mconcrete_function\u001b[39m.\u001b[39;49mcaptured_inputs)\n",
      "File \u001b[1;32mc:\\Users\\Tom\\miniconda3\\envs\\tff\\lib\\site-packages\\tensorflow\\python\\eager\\polymorphic_function\\monomorphic_function.py:1745\u001b[0m, in \u001b[0;36mConcreteFunction._call_flat\u001b[1;34m(self, args, captured_inputs, cancellation_manager)\u001b[0m\n\u001b[0;32m   1741\u001b[0m possible_gradient_type \u001b[39m=\u001b[39m gradients_util\u001b[39m.\u001b[39mPossibleTapeGradientTypes(args)\n\u001b[0;32m   1742\u001b[0m \u001b[39mif\u001b[39;00m (possible_gradient_type \u001b[39m==\u001b[39m gradients_util\u001b[39m.\u001b[39mPOSSIBLE_GRADIENT_TYPES_NONE\n\u001b[0;32m   1743\u001b[0m     \u001b[39mand\u001b[39;00m executing_eagerly):\n\u001b[0;32m   1744\u001b[0m   \u001b[39m# No tape is watching; skip to running the function.\u001b[39;00m\n\u001b[1;32m-> 1745\u001b[0m   \u001b[39mreturn\u001b[39;00m \u001b[39mself\u001b[39m\u001b[39m.\u001b[39m_build_call_outputs(\u001b[39mself\u001b[39;49m\u001b[39m.\u001b[39;49m_inference_function\u001b[39m.\u001b[39;49mcall(\n\u001b[0;32m   1746\u001b[0m       ctx, args, cancellation_manager\u001b[39m=\u001b[39;49mcancellation_manager))\n\u001b[0;32m   1747\u001b[0m forward_backward \u001b[39m=\u001b[39m \u001b[39mself\u001b[39m\u001b[39m.\u001b[39m_select_forward_and_backward_functions(\n\u001b[0;32m   1748\u001b[0m     args,\n\u001b[0;32m   1749\u001b[0m     possible_gradient_type,\n\u001b[0;32m   1750\u001b[0m     executing_eagerly)\n\u001b[0;32m   1751\u001b[0m forward_function, args_with_tangents \u001b[39m=\u001b[39m forward_backward\u001b[39m.\u001b[39mforward()\n",
      "File \u001b[1;32mc:\\Users\\Tom\\miniconda3\\envs\\tff\\lib\\site-packages\\tensorflow\\python\\eager\\polymorphic_function\\monomorphic_function.py:378\u001b[0m, in \u001b[0;36m_EagerDefinedFunction.call\u001b[1;34m(self, ctx, args, cancellation_manager)\u001b[0m\n\u001b[0;32m    376\u001b[0m \u001b[39mwith\u001b[39;00m _InterpolateFunctionError(\u001b[39mself\u001b[39m):\n\u001b[0;32m    377\u001b[0m   \u001b[39mif\u001b[39;00m cancellation_manager \u001b[39mis\u001b[39;00m \u001b[39mNone\u001b[39;00m:\n\u001b[1;32m--> 378\u001b[0m     outputs \u001b[39m=\u001b[39m execute\u001b[39m.\u001b[39;49mexecute(\n\u001b[0;32m    379\u001b[0m         \u001b[39mstr\u001b[39;49m(\u001b[39mself\u001b[39;49m\u001b[39m.\u001b[39;49msignature\u001b[39m.\u001b[39;49mname),\n\u001b[0;32m    380\u001b[0m         num_outputs\u001b[39m=\u001b[39;49m\u001b[39mself\u001b[39;49m\u001b[39m.\u001b[39;49m_num_outputs,\n\u001b[0;32m    381\u001b[0m         inputs\u001b[39m=\u001b[39;49margs,\n\u001b[0;32m    382\u001b[0m         attrs\u001b[39m=\u001b[39;49mattrs,\n\u001b[0;32m    383\u001b[0m         ctx\u001b[39m=\u001b[39;49mctx)\n\u001b[0;32m    384\u001b[0m   \u001b[39melse\u001b[39;00m:\n\u001b[0;32m    385\u001b[0m     outputs \u001b[39m=\u001b[39m execute\u001b[39m.\u001b[39mexecute_with_cancellation(\n\u001b[0;32m    386\u001b[0m         \u001b[39mstr\u001b[39m(\u001b[39mself\u001b[39m\u001b[39m.\u001b[39msignature\u001b[39m.\u001b[39mname),\n\u001b[0;32m    387\u001b[0m         num_outputs\u001b[39m=\u001b[39m\u001b[39mself\u001b[39m\u001b[39m.\u001b[39m_num_outputs,\n\u001b[1;32m   (...)\u001b[0m\n\u001b[0;32m    390\u001b[0m         ctx\u001b[39m=\u001b[39mctx,\n\u001b[0;32m    391\u001b[0m         cancellation_manager\u001b[39m=\u001b[39mcancellation_manager)\n",
      "File \u001b[1;32mc:\\Users\\Tom\\miniconda3\\envs\\tff\\lib\\site-packages\\tensorflow\\python\\eager\\execute.py:52\u001b[0m, in \u001b[0;36mquick_execute\u001b[1;34m(op_name, num_outputs, inputs, attrs, ctx, name)\u001b[0m\n\u001b[0;32m     50\u001b[0m \u001b[39mtry\u001b[39;00m:\n\u001b[0;32m     51\u001b[0m   ctx\u001b[39m.\u001b[39mensure_initialized()\n\u001b[1;32m---> 52\u001b[0m   tensors \u001b[39m=\u001b[39m pywrap_tfe\u001b[39m.\u001b[39;49mTFE_Py_Execute(ctx\u001b[39m.\u001b[39;49m_handle, device_name, op_name,\n\u001b[0;32m     53\u001b[0m                                       inputs, attrs, num_outputs)\n\u001b[0;32m     54\u001b[0m \u001b[39mexcept\u001b[39;00m core\u001b[39m.\u001b[39m_NotOkStatusException \u001b[39mas\u001b[39;00m e:\n\u001b[0;32m     55\u001b[0m   \u001b[39mif\u001b[39;00m name \u001b[39mis\u001b[39;00m \u001b[39mnot\u001b[39;00m \u001b[39mNone\u001b[39;00m:\n",
      "\u001b[1;31mKeyboardInterrupt\u001b[0m: "
     ]
    }
   ],
   "source": [
    "loss = []\n",
    "batch_size = 32\n",
    "words_each_epochs = (2000, 5)\n",
    "model_name = \"lstm_h256_b32\"\n",
    "\n",
    "with open(\"models/{}/{}_loss.txt\".format(model_name, model_name), \"r\") as f:\n",
    "    loss = f.read().removeprefix(\"[\").removesuffix(\"]\").split(\", \")\n",
    "    loss = [float(x) for x in loss]\n",
    "\n",
    "epoch = len(loss)\n",
    "print(\"Starting from epoch {}\".format(epoch))\n",
    "\n",
    "model = get_model(model_name, epoch - 1)\n",
    "\n",
    "# epoch = 0\n",
    "# model = get_model()\n",
    "\n",
    "history = model.fit(X_train, y_train, batch_size, epochs=1)\n",
    "\n",
    "loss.append(history.history[\"loss\"][0])\n",
    "# Save metrics to file\n",
    "with open(\"models/{}/{}_loss.txt\".format(model_name, model_name), \"w\") as f:\n",
    "    f.write(str(loss))\n",
    "# # Save model\n",
    "model.save(\"models/{}/{}_e{}.h5\".format(model_name, model_name, epoch))\n",
    "\n",
    "# Generate words\n",
    "if epoch % words_each_epochs[1] == 0:\n",
    "    words = generate_n_words(model, words_each_epochs[0])\n",
    "    with open(\"models/{}/{}_e{}_words.txt\".format(model_name, model_name, epoch), \"w\") as f:\n",
    "        f.write(str(words))\n"
   ]
  },
  {
   "cell_type": "markdown",
   "metadata": {},
   "source": [
    "# Plot"
   ]
  },
  {
   "cell_type": "code",
   "execution_count": 25,
   "metadata": {},
   "outputs": [],
   "source": [
    "from scipy.interpolate import make_interp_spline, BSpline\n",
    "import matplotlib\n",
    "import matplotlib.pyplot as plt\n",
    "matplotlib.use(\"pgf\")\n",
    "matplotlib.rcParams.update({\n",
    "    \"pgf.texsystem\": \"pdflatex\",\n",
    "    'font.family': 'serif',\n",
    "    'text.usetex': True,\n",
    "    'pgf.rcfonts': False,\n",
    "})"
   ]
  },
  {
   "cell_type": "code",
   "execution_count": null,
   "metadata": {},
   "outputs": [],
   "source": [
    "train_data = pd.read_csv('data/train.txt', names=['password'])\n",
    "train_data['password'] = train_data['password'].astype(str)\n",
    "\n",
    "# with open('models\\lstm_h256_b32\\lstm_h256_b32_e70_words.txt', 'r') as f:\n",
    "#     train_data = f.read().replace('[', '').replace(']', '').replace('\\'', '').split(', ')\n",
    "\n",
    "# # to dataframe\n",
    "# train_data = pd.DataFrame(train_data, columns=['password'])\n",
    "\n",
    "# # Convert to string\n",
    "# train_data['password'] = train_data['password'].astype(str)\n",
    "\n",
    "\n",
    "# Remove passwords with length > 14 (pas assez) and < 3 (Code pin)\n",
    "clean_train_data = train_data[(train_data['password'].str.len() < 14) & (train_data['password'].str.len() > 3)]\n",
    "\n",
    "# Add length of the password as a feature\n",
    "clean_train_data['length'] = clean_train_data['password'].str.len()\n",
    "\n",
    "# Add digit only as a feature\n",
    "clean_train_data['digit_only'] = clean_train_data['password'].str.isdigit()\n",
    "\n",
    "# Add letter only as a feature\n",
    "clean_train_data['letter_only'] = clean_train_data['password'].str.isalpha()\n",
    "\n",
    "# Add special characters as a feature\n",
    "clean_train_data['special'] = ~clean_train_data['password'].str.isalnum()"
   ]
  },
  {
   "cell_type": "markdown",
   "metadata": {},
   "source": [
    "## password_types"
   ]
  },
  {
   "cell_type": "code",
   "execution_count": 20,
   "metadata": {},
   "outputs": [],
   "source": [
    "# Plot stacked bar for digit only, letter only and special characters\n",
    "digit_only = clean_train_data[clean_train_data['digit_only'] == True]\n",
    "letter_only = clean_train_data[clean_train_data['letter_only'] == True]\n",
    "special = clean_train_data[clean_train_data['special'] == True]\n",
    "\n",
    "def contains_number(string):\n",
    "    return any(char.isdigit() for char in string)\n",
    "\n",
    "def contains_letter(string):\n",
    "    return any(char.isalpha() for char in string)\n",
    "\n",
    "def contains_special(string):\n",
    "    return any(not char.isalnum() for char in string)\n",
    "\n",
    "letter_and_digit_no_special = clean_train_data[clean_train_data['password'].apply(contains_number) & clean_train_data['password'].apply(contains_letter) & ~clean_train_data['password'].apply(contains_special)]\n",
    "letter_and_special_no_digit = clean_train_data[clean_train_data['password'].apply(contains_special) & clean_train_data['password'].apply(contains_letter) & ~clean_train_data['password'].apply(contains_number)]\n",
    "special_and_digit_no_letter = clean_train_data[clean_train_data['password'].apply(contains_special) & clean_train_data['password'].apply(contains_number) & ~clean_train_data['password'].apply(contains_letter)]\n",
    "\n",
    "digit_only = digit_only.groupby('length').count()['digit_only']\n",
    "letter_only = letter_only.groupby('length').count()['letter_only']\n",
    "letter_and_digit_no_special = letter_and_digit_no_special.groupby('length').count()['password']\n",
    "letter_and_special_no_digit = letter_and_special_no_digit.groupby('length').count()['password']\n",
    "special_and_digit_no_letter = special_and_digit_no_letter.groupby('length').count()['password']\n",
    "other = clean_train_data.groupby('length').count()['password'] - digit_only - letter_only - letter_and_digit_no_special - letter_and_special_no_digit - special_and_digit_no_letter\n",
    "\n",
    "# add missing values\n",
    "digit_only = digit_only.reindex(range(4, 14), fill_value=0)\n",
    "letter_only = letter_only.reindex(range(4, 14), fill_value=0)\n",
    "letter_and_digit_no_special = letter_and_digit_no_special.reindex(range(4, 14), fill_value=0)\n",
    "letter_and_special_no_digit = letter_and_special_no_digit.reindex(range(4, 14), fill_value=0)\n",
    "special_and_digit_no_letter = special_and_digit_no_letter.reindex(range(4, 14), fill_value=0)\n",
    "other = other.reindex(range(4, 14), fill_value=0)\n",
    "\n",
    "plt.figure().set_size_inches(w=3.5, h=3.5)\n",
    "plt.bar(digit_only.index, digit_only.values, label='Digit only')\n",
    "plt.bar(letter_only.index, letter_only.values, bottom=digit_only.values, label='Letter only')\n",
    "plt.bar(letter_and_digit_no_special.index, letter_and_digit_no_special.values, bottom=digit_only.values + letter_only.values, label='Letter and \\ndigit no special')\n",
    "plt.bar(letter_and_special_no_digit.index, letter_and_special_no_digit.values, bottom=digit_only.values + letter_only.values + letter_and_digit_no_special.values, label='Letter and \\nspecial no digit')\n",
    "plt.bar(special_and_digit_no_letter.index, special_and_digit_no_letter.values, bottom=digit_only.values + letter_only.values + letter_and_digit_no_special.values + letter_and_special_no_digit.values, label='Special and \\ndigit no letter')\n",
    "plt.bar(other.index, other.values, bottom=digit_only.values + letter_only.values + letter_and_digit_no_special.values + letter_and_special_no_digit.values + special_and_digit_no_letter.values, label='Mixed')\n",
    "plt.xlabel('Length')\n",
    "plt.ylabel('Number of passwords')\n",
    "plt.title('Password types')\n",
    "plt.legend(fontsize = 6)\n",
    "plt.savefig('fig/password_types.png')\n",
    "plt.savefig('fig/password_types.pgf')"
   ]
  },
  {
   "cell_type": "markdown",
   "metadata": {},
   "source": [
    "## loss"
   ]
  },
  {
   "cell_type": "code",
   "execution_count": 22,
   "metadata": {},
   "outputs": [],
   "source": [
    "with open('models\\stacked_lstm_h128_b32\\stacked_lstm_h128_b32_loss.txt') as f:\n",
    "    loss = f.read().replace('[', '').replace(']', '').split(', ')\n",
    "\n",
    "loss = [float(i) for i in loss]\n",
    "\n",
    "plt.figure().set_size_inches(w=3.7, h=3.5)\n",
    "plt.plot(loss)\n",
    "plt.xlabel('Epoch')\n",
    "plt.ylabel('Loss')\n",
    "plt.savefig('fig\\stacked_lstm_h128_b32_loss.pgf')\n",
    "plt.savefig('fig\\stacked_lstm_h128_b32_loss.png')"
   ]
  },
  {
   "cell_type": "markdown",
   "metadata": {},
   "source": [
    "## in_train / in_rockyou"
   ]
  },
  {
   "cell_type": "code",
   "execution_count": 30,
   "metadata": {},
   "outputs": [
    {
     "name": "stdout",
     "output_type": "stream",
     "text": [
      "File:  20 / 21\n",
      "1999/2000\r"
     ]
    }
   ],
   "source": [
    "train_data = pd.read_csv(\"data/train.txt\", header=None, names=['input'])\n",
    "with open('data/rockyou.txt', errors=\"ignore\") as f:\n",
    "    rockyou_data = f.read().splitlines()\n",
    "\n",
    "path = \"models\\gru_h128_b32\\\\\"\n",
    "file_name = \"gru_h128_b32_e\"\n",
    "max = 21\n",
    "\n",
    "for fi in range(0, max, 5):\n",
    "    print(\"File: \", fi, \"/\", max)\n",
    "    with open(path + file_name + str(fi) + '_words.txt') as f:\n",
    "        in_test = 0\n",
    "        in_train = 0\n",
    "        words = f.read().replace('[', '').replace(']', '').replace(\"'\", '').split(', ')\n",
    "\n",
    "        for i, word in enumerate(words):\n",
    "            print(\"{}/{}\".format(i, len(words)), end=\"\\r\")\n",
    "            if word in rockyou_data:\n",
    "                in_test += 1\n",
    "            if word in train_data['input'].values:\n",
    "                in_train += 1\n",
    "        \n",
    "        with open(\"{}\\Res.csv\".format(path), \"a\") as f:\n",
    "            f.write(\"{}, {}, {}\\n\".format(fi, in_test, in_train))\n"
   ]
  },
  {
   "cell_type": "code",
   "execution_count": 31,
   "metadata": {},
   "outputs": [],
   "source": [
    "# Load data \n",
    "data = pd.read_csv(\"models\\gru_h128_b32\\Res.csv\", header=None)\n",
    "data.columns = ['Epoch', 'Rockyou', 'Train']\n",
    "# convert to int\n",
    "data['Epoch'] = data['Epoch'].astype(int)\n",
    "data['Rockyou'] = data['Rockyou'].astype(int)\n",
    "data['Train'] = data['Train'].astype(int)"
   ]
  },
  {
   "cell_type": "code",
   "execution_count": 32,
   "metadata": {},
   "outputs": [],
   "source": [
    "x_new = np.linspace(data['Epoch'].min(), data['Epoch'].max(), 300) #300 represents number of points to make between T.min and T.max\n",
    "spl = make_interp_spline(data['Epoch'], data['Rockyou'], k=3) #BSpline object\n",
    "y_smooth = spl(x_new)\n",
    "plt.clf()\n",
    "plt.figure().set_size_inches(w=3.7, h=3.5)\n",
    "plt.plot(x_new, y_smooth, label='In rockyou.txt', color='purple', alpha=0.9)\n",
    "plt.plot(data['Epoch'], data['Rockyou'], label=None, color=\"purple\", alpha=0.4)\n",
    "\n",
    "spl = make_interp_spline(data['Epoch'], data['Train'], k=3) #BSpline object\n",
    "y_smooth = spl(x_new)\n",
    "plt.plot(x_new, y_smooth, label='In train.txt', color='green', alpha=0.9)\n",
    "plt.plot(data['Epoch'], data['Train'], label=None, color=\"green\", alpha=0.4)\n",
    "\n",
    "plt.xlabel('Epoch')\n",
    "plt.ylabel('Number of passwords')\n",
    "plt.legend()\n",
    "\n",
    "plt.savefig('fig\\gru_h128_b32_in_test_rockyou.pgf')\n",
    "plt.savefig('fig\\gru_h128_b32_in_test_rockyou.png')"
   ]
  }
 ],
 "metadata": {
  "kernelspec": {
   "display_name": "Python 3.9.15 ('tff')",
   "language": "python",
   "name": "python3"
  },
  "language_info": {
   "codemirror_mode": {
    "name": "ipython",
    "version": 3
   },
   "file_extension": ".py",
   "mimetype": "text/x-python",
   "name": "python",
   "nbconvert_exporter": "python",
   "pygments_lexer": "ipython3",
   "version": "3.9.15"
  },
  "orig_nbformat": 4,
  "vscode": {
   "interpreter": {
    "hash": "8a19559f185dcd5358eb229ad0c60025aba986bbf27bf1212b2dc2d9abd8f723"
   }
  }
 },
 "nbformat": 4,
 "nbformat_minor": 2
}
